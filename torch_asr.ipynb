{
 "cells": [
  {
   "cell_type": "code",
   "execution_count": null,
   "id": "7dde0703",
   "metadata": {},
   "outputs": [],
   "source": [
    "import torch\n",
    "import torchaudio\n",
    "import k2\n",
    "import icefall\n",
    "import matplotlib.pyplot as plt"
   ]
  },
  {
   "cell_type": "code",
   "execution_count": 40,
   "id": "2770b53e",
   "metadata": {},
   "outputs": [
    {
     "name": "stdout",
     "output_type": "stream",
     "text": [
      "Sample Rate: 16000\n",
      "Labels: ('-', '|', 'E', 'T', 'A', 'O', 'N', 'I', 'H', 'S', 'R', 'D', 'L', 'U', 'M', 'W', 'C', 'F', 'G', 'Y', 'P', 'B', 'V', 'K', \"'\", 'X', 'J', 'Q', 'Z')\n"
     ]
    }
   ],
   "source": [
    "# bundle = torchaudio.pipelines.WAV2VEC2_XLSR_300M\n",
    "bundle = torchaudio.pipelines.WAV2VEC2_ASR_BASE_960H\n",
    "model = bundle.get_model()\n",
    "\n",
    "print(\"Sample Rate:\", bundle.sample_rate)\n",
    "print(\"Labels:\", bundle.get_labels())"
   ]
  },
  {
   "cell_type": "code",
   "execution_count": null,
   "id": "0a6929f1",
   "metadata": {},
   "outputs": [
    {
     "data": {
      "text/plain": [
       "torch.Size([2, 17798])"
      ]
     },
     "execution_count": 17,
     "metadata": {},
     "output_type": "execute_result"
    }
   ],
   "source": [
    "wav_orig, orig_freq = torchaudio.load(\"/home/mjsimmons/projects/malachor5/test/data/albrrizo.wav\")\n",
    "new_freq = 16_000\n",
    "resample_f = torchaudio.transforms.Resample(orig_freq=orig_freq, new_freq=new_freq)\n",
    "wav = resample_f(wav_orig)"
   ]
  },
  {
   "cell_type": "code",
   "execution_count": 36,
   "id": "0aac09a0",
   "metadata": {},
   "outputs": [],
   "source": [
    "with torch.inference_mode():\n",
    "    features, _ = model.extract_features(wav)"
   ]
  },
  {
   "cell_type": "code",
   "execution_count": null,
   "id": "c61bd682",
   "metadata": {},
   "outputs": [],
   "source": [
    "fig, ax = plt.subplots(len(features), 1, figsize=(16, 4.3 * len(features)))\n",
    "for i, feats in enumerate(features):\n",
    "    ax[i].imshow(feats[0].cpu(), interpolation=\"nearest\")\n",
    "    ax[i].set_title(f\"Feature from transformer layer {i+1}\")\n",
    "    ax[i].set_xlabel(\"Feature dimension\")\n",
    "    ax[i].set_ylabel(\"Frame (time-axis)\")\n",
    "fig.tight_layout()\n"
   ]
  },
  {
   "cell_type": "code",
   "execution_count": 38,
   "id": "b00504f3",
   "metadata": {},
   "outputs": [],
   "source": [
    "with torch.inference_mode():\n",
    "    emission, _ = model(wav)"
   ]
  },
  {
   "cell_type": "code",
   "execution_count": 39,
   "id": "89ecdf09",
   "metadata": {},
   "outputs": [
    {
     "data": {
      "text/plain": [
       "torch.Size([2, 55, 29])"
      ]
     },
     "execution_count": 39,
     "metadata": {},
     "output_type": "execute_result"
    }
   ],
   "source": [
    "emission.shape"
   ]
  },
  {
   "cell_type": "markdown",
   "id": "04fa6fb4",
   "metadata": {},
   "source": [
    "Following along `test_ctc_topo.py` in [Icefall github repo](https://github.com/k2-fsa/icefall/blob/master/icefall/ctc/test_ctc_topo.py)"
   ]
  },
  {
   "cell_type": "code",
   "execution_count": 48,
   "id": "8923498e",
   "metadata": {},
   "outputs": [],
   "source": [
    "from icefall.ctc.topo import build_standard_ctc_topo\n",
    "import kaldifst\n",
    "\n",
    "H=build_standard_ctc_topo(max_token_id=len(bundle.get_labels()))\n",
    "\n",
    "input_symbols = kaldifst.SymbolTable()\n",
    "output_symbols = kaldifst.SymbolTable()\n",
    "\n",
    "input_symbols.add_symbol(symbol=\"<blk>\", key=0)\n",
    "output_symbols.add_symbol(symbol=\"<eps>\", key=0)\n",
    "\n",
    "for i, label in enumerate(bundle.get_labels(), start=1):\n",
    "    input_symbols.add_symbol(symbol=label, key=i)\n",
    "    output_symbols.add_symbol(symbol=label, key=i)\n",
    "\n",
    "H.input_symbols = input_symbols\n",
    "H.output_symbols = output_symbols\n"
   ]
  }
 ],
 "metadata": {
  "kernelspec": {
   "display_name": "Python 3 (ipykernel)",
   "language": "python",
   "name": "python3"
  },
  "language_info": {
   "codemirror_mode": {
    "name": "ipython",
    "version": 3
   },
   "file_extension": ".py",
   "mimetype": "text/x-python",
   "name": "python",
   "nbconvert_exporter": "python",
   "pygments_lexer": "ipython3",
   "version": "3.12.3"
  }
 },
 "nbformat": 4,
 "nbformat_minor": 5
}
